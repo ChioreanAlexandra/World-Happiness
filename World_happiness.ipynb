{
 "cells": [
  {
   "cell_type": "code",
   "execution_count": 1,
   "metadata": {},
   "outputs": [],
   "source": [
    "import os\n",
    "import subprocess\n",
    "\n",
    "import pandas as pd\n",
    "import numpy as np\n",
    "from sklearn import linear_model\n",
    "from sklearn.neighbors import KNeighborsRegressor\n",
    "from sklearn.metrics import mean_squared_error\n",
    "from sklearn.metrics import mean_absolute_error\n"
   ]
  },
  {
   "cell_type": "code",
   "execution_count": 2,
   "metadata": {},
   "outputs": [],
   "source": [
    "PATH = \"../datasets\"\n",
    "input_file = \"world_happiness2.csv\"\n",
    "\n",
    "dataset_path = os.path.join(PATH, input_file)\n",
    "data = pd.read_csv(dataset_path, header=0)"
   ]
  },
  {
   "cell_type": "code",
   "execution_count": 3,
   "metadata": {},
   "outputs": [
    {
     "data": {
      "text/plain": [
       "(156, 9)"
      ]
     },
     "execution_count": 3,
     "metadata": {},
     "output_type": "execute_result"
    }
   ],
   "source": [
    "data.shape"
   ]
  },
  {
   "cell_type": "code",
   "execution_count": 4,
   "metadata": {},
   "outputs": [
    {
     "data": {
      "text/plain": [
       "array(['Rank', 'Country', 'Score', 'GDP ', 'Social support',\n",
       "       'Healthy life ', 'Freedom ', 'Generosity', 'Politics'],\n",
       "      dtype=object)"
      ]
     },
     "execution_count": 4,
     "metadata": {},
     "output_type": "execute_result"
    }
   ],
   "source": [
    "data.columns.values"
   ]
  },
  {
   "cell_type": "code",
   "execution_count": 5,
   "metadata": {},
   "outputs": [
    {
     "data": {
      "text/html": [
       "<div>\n",
       "<style scoped>\n",
       "    .dataframe tbody tr th:only-of-type {\n",
       "        vertical-align: middle;\n",
       "    }\n",
       "\n",
       "    .dataframe tbody tr th {\n",
       "        vertical-align: top;\n",
       "    }\n",
       "\n",
       "    .dataframe thead th {\n",
       "        text-align: right;\n",
       "    }\n",
       "</style>\n",
       "<table border=\"1\" class=\"dataframe\">\n",
       "  <thead>\n",
       "    <tr style=\"text-align: right;\">\n",
       "      <th></th>\n",
       "      <th>Rank</th>\n",
       "      <th>Country</th>\n",
       "      <th>Score</th>\n",
       "      <th>GDP</th>\n",
       "      <th>Social support</th>\n",
       "      <th>Healthy life</th>\n",
       "      <th>Freedom</th>\n",
       "      <th>Generosity</th>\n",
       "      <th>Politics</th>\n",
       "    </tr>\n",
       "  </thead>\n",
       "  <tbody>\n",
       "    <tr>\n",
       "      <th>0</th>\n",
       "      <td>1</td>\n",
       "      <td>Finland</td>\n",
       "      <td>7.769</td>\n",
       "      <td>1.340</td>\n",
       "      <td>1.587</td>\n",
       "      <td>0.986</td>\n",
       "      <td>0.596</td>\n",
       "      <td>0.153</td>\n",
       "      <td>0.393</td>\n",
       "    </tr>\n",
       "    <tr>\n",
       "      <th>1</th>\n",
       "      <td>2</td>\n",
       "      <td>Denmark</td>\n",
       "      <td>7.600</td>\n",
       "      <td>1.383</td>\n",
       "      <td>1.573</td>\n",
       "      <td>0.996</td>\n",
       "      <td>0.592</td>\n",
       "      <td>0.252</td>\n",
       "      <td>0.410</td>\n",
       "    </tr>\n",
       "    <tr>\n",
       "      <th>2</th>\n",
       "      <td>3</td>\n",
       "      <td>Norway</td>\n",
       "      <td>7.554</td>\n",
       "      <td>1.488</td>\n",
       "      <td>1.582</td>\n",
       "      <td>1.028</td>\n",
       "      <td>0.603</td>\n",
       "      <td>0.271</td>\n",
       "      <td>0.341</td>\n",
       "    </tr>\n",
       "    <tr>\n",
       "      <th>3</th>\n",
       "      <td>4</td>\n",
       "      <td>Iceland</td>\n",
       "      <td>7.494</td>\n",
       "      <td>1.380</td>\n",
       "      <td>1.624</td>\n",
       "      <td>1.026</td>\n",
       "      <td>0.591</td>\n",
       "      <td>0.354</td>\n",
       "      <td>0.118</td>\n",
       "    </tr>\n",
       "    <tr>\n",
       "      <th>4</th>\n",
       "      <td>5</td>\n",
       "      <td>Netherlands</td>\n",
       "      <td>7.488</td>\n",
       "      <td>1.396</td>\n",
       "      <td>1.522</td>\n",
       "      <td>0.999</td>\n",
       "      <td>0.557</td>\n",
       "      <td>0.322</td>\n",
       "      <td>0.298</td>\n",
       "    </tr>\n",
       "  </tbody>\n",
       "</table>\n",
       "</div>"
      ],
      "text/plain": [
       "   Rank      Country  Score   GDP   Social support  Healthy life   Freedom   \\\n",
       "0     1      Finland  7.769  1.340           1.587          0.986     0.596   \n",
       "1     2      Denmark  7.600  1.383           1.573          0.996     0.592   \n",
       "2     3       Norway  7.554  1.488           1.582          1.028     0.603   \n",
       "3     4      Iceland  7.494  1.380           1.624          1.026     0.591   \n",
       "4     5  Netherlands  7.488  1.396           1.522          0.999     0.557   \n",
       "\n",
       "   Generosity  Politics  \n",
       "0       0.153     0.393  \n",
       "1       0.252     0.410  \n",
       "2       0.271     0.341  \n",
       "3       0.354     0.118  \n",
       "4       0.322     0.298  "
      ]
     },
     "execution_count": 5,
     "metadata": {},
     "output_type": "execute_result"
    }
   ],
   "source": [
    "data.head()"
   ]
  },
  {
   "cell_type": "code",
   "execution_count": 6,
   "metadata": {},
   "outputs": [],
   "source": [
    "data2 = data[data.columns.drop(['Country'])]\n",
    "data2\n",
    "X = data2[['Rank', 'GDP ', 'Social support', 'Healthy life ','Generosity', 'Freedom ']]\n",
    "y = data2[['Score','Politics']]\n",
    "from sklearn.model_selection import train_test_split\n",
    "X_train, X_test, y_train, y_test = train_test_split(X, y, test_size=0.33)"
   ]
  },
  {
   "cell_type": "code",
   "execution_count": 7,
   "metadata": {},
   "outputs": [
    {
     "data": {
      "text/plain": [
       "Ridge(alpha=0.25, copy_X=True, fit_intercept=True, max_iter=None,\n",
       "      normalize=False, random_state=None, solver='auto', tol=0.001)"
      ]
     },
     "execution_count": 7,
     "metadata": {},
     "output_type": "execute_result"
    }
   ],
   "source": [
    "regr = linear_model.Ridge(alpha=.25)\n",
    "regr.fit(X_train, y_train)"
   ]
  },
  {
   "cell_type": "code",
   "execution_count": 8,
   "metadata": {},
   "outputs": [],
   "source": [
    "prediction = regr.predict(X_test)\n",
    "pr = prediction"
   ]
  },
  {
   "cell_type": "code",
   "execution_count": 9,
   "metadata": {},
   "outputs": [
    {
     "data": {
      "text/plain": [
       "0.01479379113016626"
      ]
     },
     "execution_count": 9,
     "metadata": {},
     "output_type": "execute_result"
    }
   ],
   "source": [
    "mean_squared_error(y_test, prediction)"
   ]
  },
  {
   "cell_type": "code",
   "execution_count": 11,
   "metadata": {},
   "outputs": [
    {
     "data": {
      "text/plain": [
       "0.09142261088018219"
      ]
     },
     "execution_count": 11,
     "metadata": {},
     "output_type": "execute_result"
    }
   ],
   "source": [
    "mean_absolute_error(y_test, prediction)"
   ]
  },
  {
   "cell_type": "code",
   "execution_count": 12,
   "metadata": {},
   "outputs": [],
   "source": [
    "from sklearn.preprocessing import StandardScaler\n",
    "scaler = StandardScaler()\n",
    "\n",
    "X_train_scaled = scaler.fit_transform(X_train)\n",
    "X_test_scaled = scaler.fit_transform(X_test)"
   ]
  },
  {
   "cell_type": "code",
   "execution_count": 13,
   "metadata": {},
   "outputs": [],
   "source": [
    "regr = linear_model.Ridge(alpha=.5)\n",
    "regr.fit(X_train_scaled, y_train)\n",
    "\n",
    "prediction = regr.predict(X_test_scaled)\n",
    "pr = prediction"
   ]
  },
  {
   "cell_type": "code",
   "execution_count": 14,
   "metadata": {},
   "outputs": [
    {
     "data": {
      "text/plain": [
       "0.018116250464163087"
      ]
     },
     "execution_count": 14,
     "metadata": {},
     "output_type": "execute_result"
    }
   ],
   "source": [
    "mean_squared_error(y_test, prediction)"
   ]
  },
  {
   "cell_type": "code",
   "execution_count": 15,
   "metadata": {},
   "outputs": [
    {
     "data": {
      "text/plain": [
       "0.10025008611951451"
      ]
     },
     "execution_count": 15,
     "metadata": {},
     "output_type": "execute_result"
    }
   ],
   "source": [
    "mean_absolute_error(y_test, prediction)"
   ]
  },
  {
   "cell_type": "code",
   "execution_count": 16,
   "metadata": {},
   "outputs": [
    {
     "data": {
      "text/plain": [
       "KNeighborsRegressor(algorithm='auto', leaf_size=30, metric='minkowski',\n",
       "                    metric_params=None, n_jobs=None, n_neighbors=5, p=2,\n",
       "                    weights='uniform')"
      ]
     },
     "execution_count": 16,
     "metadata": {},
     "output_type": "execute_result"
    }
   ],
   "source": [
    "X_train_copy = X_train\n",
    "y_train_copy = y_train\n",
    "\n",
    "neigh = KNeighborsRegressor(n_neighbors=5)\n",
    "\n",
    "neigh.fit(X_train_copy, y_train_copy)\n"
   ]
  },
  {
   "cell_type": "code",
   "execution_count": 17,
   "metadata": {},
   "outputs": [],
   "source": [
    "prediction = neigh.predict(X_test)\n",
    "pr = prediction"
   ]
  },
  {
   "cell_type": "code",
   "execution_count": 18,
   "metadata": {},
   "outputs": [
    {
     "data": {
      "text/plain": [
       "0.003440178846153847"
      ]
     },
     "execution_count": 18,
     "metadata": {},
     "output_type": "execute_result"
    }
   ],
   "source": [
    "mean_squared_error(y_test, prediction)"
   ]
  },
  {
   "cell_type": "code",
   "execution_count": 21,
   "metadata": {},
   "outputs": [
    {
     "name": "stdout",
     "output_type": "stream",
     "text": [
      "MSE value for k =  1 is: 0.005702961538461539\n",
      "MAE value for k =  1 is: 0.03699038461538468\n",
      "MSE value for k =  3 is: 0.0035803995726495716\n",
      "MAE value for k =  3 is: 0.03699038461538468\n",
      "MSE value for k =  5 is: 0.003440178846153847\n",
      "MAE value for k =  5 is: 0.03699038461538468\n",
      "MSE value for k =  7 is: 0.0037209446624803747\n",
      "MAE value for k =  7 is: 0.03699038461538468\n",
      "MSE value for k =  9 is: 0.004943627611585944\n",
      "MAE value for k =  9 is: 0.03699038461538468\n",
      "MSE value for k =  11 is: 0.006023307851239676\n",
      "MAE value for k =  11 is: 0.03699038461538468\n"
     ]
    }
   ],
   "source": [
    "from math import sqrt\n",
    "mse_val = [] \n",
    "mae_val = []\n",
    "sqrt_k = int(sqrt(np.size(data,0)))\n",
    "for K in range(1,sqrt_k,2):\n",
    "    model = KNeighborsRegressor(n_neighbors = K)\n",
    "    model.fit(X_train, y_train) \n",
    "    pred=model.predict(X_test) \n",
    "    error = mean_squared_error(y_test,pred) \n",
    "    mse_val.append(error) \n",
    "    print('MSE value for k = ' , K , 'is:', error)\n",
    "    error = mean_absolute_error(y_test, prediction)\n",
    "    mae_val.append(error) \n",
    "    print('MAE value for k = ' , K , 'is:', error)"
   ]
  },
  {
   "cell_type": "code",
   "execution_count": 179,
   "metadata": {},
   "outputs": [
    {
     "data": {
      "text/plain": [
       "3"
      ]
     },
     "execution_count": 179,
     "metadata": {},
     "output_type": "execute_result"
    }
   ],
   "source": [
    "mse_array = np.asarray(mse_val)\n",
    "min_val = np.ndarray.min(mse_array)\n",
    "chosenK = np.where(mse_array==min_val)[0][0]*2+1\n",
    "chosenK"
   ]
  },
  {
   "cell_type": "code",
   "execution_count": 22,
   "metadata": {},
   "outputs": [],
   "source": [
    "from sklearn.preprocessing import Normalizer\n",
    "scaler = Normalizer()\n",
    "\n",
    "x_train_scaled = scaler.fit_transform(X_train)\n",
    "x_test_scaled = scaler.fit_transform(X_test)\n"
   ]
  },
  {
   "cell_type": "code",
   "execution_count": 23,
   "metadata": {},
   "outputs": [
    {
     "name": "stdout",
     "output_type": "stream",
     "text": [
      "MSE value for k =  1 is: 0.0819273653846154\n",
      "MAE value for k =  1 is: 0.03699038461538468\n",
      "MSE value for k =  3 is: 0.0530720096153846\n",
      "MAE value for k =  3 is: 0.03699038461538468\n",
      "MSE value for k =  5 is: 0.042980226153846106\n",
      "MAE value for k =  5 is: 0.03699038461538468\n",
      "MSE value for k =  7 is: 0.044935920525902624\n",
      "MAE value for k =  7 is: 0.03699038461538468\n",
      "MSE value for k =  9 is: 0.0425509946581196\n",
      "MAE value for k =  9 is: 0.03699038461538468\n",
      "MSE value for k =  11 is: 0.04312298585505396\n",
      "MAE value for k =  11 is: 0.03699038461538468\n"
     ]
    }
   ],
   "source": [
    "from math import sqrt\n",
    "mse_val = [] \n",
    "mae_val=[]\n",
    "sqrt_k = int(sqrt(np.size(data,0)))\n",
    "for K in range(1,sqrt_k,2):\n",
    "    model = KNeighborsRegressor(n_neighbors = K)\n",
    "    model.fit(x_train_scaled, y_train) \n",
    "    pred=model.predict(x_test_scaled) \n",
    "    error = mean_squared_error(y_test,pred) \n",
    "    mse_val.append(error) \n",
    "    print('MSE value for k = ' , K , 'is:', error)\n",
    "    error = mean_absolute_error(y_test, prediction)\n",
    "    mae_val.append(error) \n",
    "    print('MAE value for k = ' , K , 'is:', error)"
   ]
  },
  {
   "cell_type": "code",
   "execution_count": 24,
   "metadata": {},
   "outputs": [
    {
     "data": {
      "text/plain": [
       "9"
      ]
     },
     "execution_count": 24,
     "metadata": {},
     "output_type": "execute_result"
    }
   ],
   "source": [
    "mse_array = np.asarray(mse_val)\n",
    "min_val = np.ndarray.min(mse_array)\n",
    "chosenK = np.where(mse_array==min_val)[0][0]*2+1\n",
    "chosenK"
   ]
  },
  {
   "cell_type": "code",
   "execution_count": null,
   "metadata": {},
   "outputs": [],
   "source": []
  }
 ],
 "metadata": {
  "kernelspec": {
   "display_name": "Python 3",
   "language": "python",
   "name": "python3"
  },
  "language_info": {
   "codemirror_mode": {
    "name": "ipython",
    "version": 3
   },
   "file_extension": ".py",
   "mimetype": "text/x-python",
   "name": "python",
   "nbconvert_exporter": "python",
   "pygments_lexer": "ipython3",
   "version": "3.6.9"
  }
 },
 "nbformat": 4,
 "nbformat_minor": 4
}
